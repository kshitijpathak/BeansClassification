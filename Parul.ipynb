{
  "nbformat": 4,
  "nbformat_minor": 0,
  "metadata": {
    "colab": {
      "provenance": [],
      "authorship_tag": "ABX9TyNQIXPNaJQtadTb5wOInwJN",
      "include_colab_link": true
    },
    "kernelspec": {
      "name": "python3",
      "display_name": "Python 3"
    },
    "language_info": {
      "name": "python"
    }
  },
  "cells": [
    {
      "cell_type": "markdown",
      "metadata": {
        "id": "view-in-github",
        "colab_type": "text"
      },
      "source": [
        "<a href=\"https://colab.research.google.com/github/kshitijpathak/BeansClassification/blob/main/Parul.ipynb\" target=\"_parent\"><img src=\"https://colab.research.google.com/assets/colab-badge.svg\" alt=\"Open In Colab\"/></a>"
      ]
    },
    {
      "cell_type": "code",
      "execution_count": null,
      "metadata": {
        "id": "NPh6on0HFCsW"
      },
      "outputs": [],
      "source": [
        "# the name of this game is <Castle Adventure:Princess Rescue>\n",
        "import random\n",
        "\n",
        "# random generate a 10*10 maze, 0 means pass, 1 means the wall which cannot pass\n",
        "def generate_maze():\n",
        "    return [[random.choice([0,1]) for _ in range(10)]for _ in range (10)]"
      ]
    },
    {
      "cell_type": "code",
      "source": [
        "from google.colab import drive\n",
        "drive.mount('/content/drive')"
      ],
      "metadata": {
        "id": "6kIgmpVnSBWH"
      },
      "execution_count": null,
      "outputs": []
    },
    {
      "cell_type": "code",
      "source": [
        "maze = generate_maze()\n",
        "maze"
      ],
      "metadata": {
        "colab": {
          "base_uri": "https://localhost:8080/"
        },
        "id": "f4WGfFFSFI-d",
        "outputId": "dd57ecde-dae6-4a64-ecd0-f1f041453eee"
      },
      "execution_count": null,
      "outputs": [
        {
          "output_type": "execute_result",
          "data": {
            "text/plain": [
              "[[1, 0, 1, 1, 0, 0, 0, 1, 0, 0],\n",
              " [0, 0, 1, 1, 0, 1, 1, 0, 1, 1],\n",
              " [0, 1, 1, 1, 0, 0, 1, 0, 1, 1],\n",
              " [0, 0, 0, 1, 0, 0, 1, 1, 1, 1],\n",
              " [0, 0, 0, 1, 0, 1, 1, 1, 0, 0],\n",
              " [1, 0, 0, 0, 0, 1, 0, 1, 1, 0],\n",
              " [0, 1, 1, 0, 1, 0, 1, 0, 1, 1],\n",
              " [0, 1, 1, 1, 0, 0, 1, 1, 1, 1],\n",
              " [0, 0, 1, 0, 1, 0, 1, 0, 0, 1],\n",
              " [1, 0, 0, 0, 1, 0, 1, 1, 1, 1]]"
            ]
          },
          "metadata": {},
          "execution_count": 2
        }
      ]
    },
    {
      "cell_type": "code",
      "source": [
        "# place the player and the treasure in random position which is not 0\n",
        "def add_player_and_equipment(maze):\n",
        "    free_space = [(row, col) for row in range (10) for col in range (10) if maze[row][col] == 0]\n",
        "    # separate the position of the maze in row and column\n",
        "    player = random.choice(free_space)\n",
        "    free_space.remove(player)\n",
        "    equipment = random.choice(free_space)\n",
        "    return player, equipment"
      ],
      "metadata": {
        "id": "CLLiRGB7FLPf"
      },
      "execution_count": null,
      "outputs": []
    },
    {
      "cell_type": "code",
      "source": [
        "player, equipment = add_player_and_equipment(maze)\n",
        "print(player, equipment)"
      ],
      "metadata": {
        "colab": {
          "base_uri": "https://localhost:8080/"
        },
        "id": "FIDfGHMOFNVz",
        "outputId": "fe8c1855-8f4d-4549-d9bf-438b16d5a754"
      },
      "execution_count": null,
      "outputs": [
        {
          "output_type": "stream",
          "name": "stdout",
          "text": [
            "(0, 4) (3, 5)\n"
          ]
        }
      ]
    },
    {
      "cell_type": "code",
      "source": [
        "# Below function is to print the maze with players position and equipment position for player to get start\n",
        "# X for player and E for equipment\n",
        "\n",
        "def print_maze(maze, player, equipment):\n",
        "    for i in range (10):\n",
        "        for j in range (10):\n",
        "            if (i,j) == player:\n",
        "                print('X', end= ' ')\n",
        "            elif (i,j) == equipment:\n",
        "                print('E', end=' ')\n",
        "            else:\n",
        "                print('0' if maze[i][j] == 0 else '1',end=' ')\n",
        "        print()"
      ],
      "metadata": {
        "id": "fG84zS-eFPER"
      },
      "execution_count": null,
      "outputs": []
    },
    {
      "cell_type": "code",
      "source": [
        "print_maze(maze, player, equipment)"
      ],
      "metadata": {
        "colab": {
          "base_uri": "https://localhost:8080/"
        },
        "id": "aDbzyuhmFRPy",
        "outputId": "ca05f219-9206-4c90-c720-eb51c1a4b84c"
      },
      "execution_count": null,
      "outputs": [
        {
          "output_type": "stream",
          "name": "stdout",
          "text": [
            "1 0 1 1 X 0 0 1 0 0 \n",
            "0 0 1 1 0 1 1 0 1 1 \n",
            "0 1 1 1 0 0 1 0 1 1 \n",
            "0 0 0 1 0 E 1 1 1 1 \n",
            "0 0 0 1 0 1 1 1 0 0 \n",
            "1 0 0 0 0 1 0 1 1 0 \n",
            "0 1 1 0 1 0 1 0 1 1 \n",
            "0 1 1 1 0 0 1 1 1 1 \n",
            "0 0 1 0 1 0 1 0 0 1 \n",
            "1 0 0 0 1 0 1 1 1 1 \n"
          ]
        }
      ]
    },
    {
      "cell_type": "code",
      "source": [
        "# Below function is to move the player\n",
        "def move_player(maze,player,direction):\n",
        "    row_p,col_p = player\n",
        "    path = []\n",
        "\n",
        "    if direction == 'up' and row_p >= 0 and maze[row_p-1][col_p] != 1:\n",
        "         path.append('up')\n",
        "         #player = row_p, col_p\n",
        "         return row_p-1, col_p\n",
        "    elif direction == 'down' and row_p + 1 < 9 and maze[row_p+1][col_p] != 1:\n",
        "         path.append('down')\n",
        "         #player = row_p, col_p\n",
        "         return row_p+1, col_p\n",
        "    elif direction == 'left' and col_p - 1 >= 0 and maze[row_p][col_p-1] != 1:\n",
        "         path.append('left')\n",
        "         #player = row_p, col_p\n",
        "         return row_p, col_p-1\n",
        "    elif direction == 'right' and col_p + 1 < 9 and maze[row_p][col_p+1] != 1:\n",
        "         path.append('right')\n",
        "         #player = row_p, col_p\n",
        "         return row_p, col_p+1\n",
        "    else:\n",
        "         return path, player"
      ],
      "metadata": {
        "id": "9jN1xgIAFYCd"
      },
      "execution_count": null,
      "outputs": []
    },
    {
      "cell_type": "code",
      "source": [
        "move_player(maze,player,\"down\")"
      ],
      "metadata": {
        "colab": {
          "base_uri": "https://localhost:8080/"
        },
        "id": "s-4eIJx6F9f0",
        "outputId": "d1372c5b-7b5c-465d-a74d-7fed5eb04d8e"
      },
      "execution_count": null,
      "outputs": [
        {
          "output_type": "execute_result",
          "data": {
            "text/plain": [
              "(1, 4)"
            ]
          },
          "metadata": {},
          "execution_count": 33
        }
      ]
    },
    {
      "cell_type": "code",
      "source": [
        "def play_game():\n",
        "    # the first room is called armory.\n",
        "    # Before the game starts, the player will be at the front door of the castle, when they start the\n",
        "    # game, this function will generate the first maze for the armory\n",
        "    maze = generate_maze()\n",
        "    player, equipment = add_player_and_equipment(maze)\n",
        "    print('Now you are in the armory, please find the the treasure map piece')\n",
        "\n",
        "    backpack = []\n",
        "    #path = []\n",
        "\n",
        "    while True:\n",
        "        print_maze(maze, player, equipment)\n",
        "        direction = input(\"Please enter the direction of movement (up, down, left, right), or type 'retry' to start over, or 'exit' to end the game：\")\n",
        "        if direction in ['up','down','left','right']:\n",
        "           player = move_player(maze, player,direction)\n",
        "           #path.append(direction)\n",
        "           if player == equipment:\n",
        "              backpack.append(equipment)\n",
        "              print('Congratulations! You have found the piece of the treasure map!')\n",
        "              break\n",
        "        elif direction == 'retry':\n",
        "             play_game()\n",
        "             break\n",
        "        elif direction == 'exit':\n",
        "             print('Thank you for playing! ')\n",
        "             break\n",
        "        else:\n",
        "             print('Invalid command, please try again')\n",
        "\n",
        "    if direction != 'exit':\n",
        "       next_action = input(\"Enter 'Continue' to go to the next room, or enter 'backpack' to check the treasures: \")\n",
        "       if next_action == 'continue':\n",
        "           print('Now you are in the ballroom...')\n",
        "           play_game()\n",
        "       elif next_action == 'backpack':\n",
        "           print('The treasure in your backpack:' + ''.join(backpack))\n",
        "           play_game()\n",
        "\n",
        "play_game()"
      ],
      "metadata": {
        "colab": {
          "base_uri": "https://localhost:8080/"
        },
        "id": "IeYMLGBnHG0V",
        "outputId": "900f9a32-79d2-4949-d222-1860a56b9ed8"
      },
      "execution_count": null,
      "outputs": [
        {
          "metadata": {
            "tags": null
          },
          "name": "stdout",
          "output_type": "stream",
          "text": [
            "Now you are in the armory, please find the the treasure map piece\n",
            "0 0 1 0 1 1 1 1 1 1 \n",
            "0 1 1 0 1 1 1 0 1 1 \n",
            "0 0 1 1 1 1 1 0 0 1 \n",
            "1 1 1 1 1 1 X 0 0 1 \n",
            "1 1 0 0 1 1 1 1 1 1 \n",
            "0 1 1 0 0 1 1 0 0 1 \n",
            "1 0 1 1 0 0 1 1 0 1 \n",
            "1 1 0 0 1 1 0 1 1 1 \n",
            "1 0 0 1 0 0 0 1 1 0 \n",
            "0 E 0 1 1 1 1 1 0 0 \n",
            "Now you are in the armory, please find the the treasure map piece\n",
            "0 0 1 1 1 1 0 1 1 0 \n",
            "1 1 0 1 0 1 0 1 1 1 \n",
            "1 0 0 1 0 1 0 1 0 0 \n",
            "1 1 1 0 1 0 1 0 1 1 \n",
            "1 1 0 0 0 0 1 1 1 1 \n",
            "0 0 0 1 0 1 0 0 0 0 \n",
            "1 0 0 1 1 1 0 1 1 1 \n",
            "0 0 0 0 1 0 1 1 0 1 \n",
            "0 1 0 1 1 1 0 1 0 1 \n",
            "0 0 0 0 E 1 1 X 1 1 \n",
            "Now you are in the armory, please find the the treasure map piece\n",
            "0 0 1 1 0 1 0 1 1 1 \n",
            "1 0 0 1 0 0 1 0 1 E \n",
            "1 0 1 0 1 1 1 0 0 0 \n",
            "1 0 1 1 0 1 1 0 1 1 \n",
            "1 0 0 0 1 0 1 0 0 1 \n",
            "0 1 0 0 0 1 0 1 0 0 \n",
            "0 1 0 1 1 1 1 1 1 1 \n",
            "1 1 1 1 0 1 0 1 1 1 \n",
            "0 1 1 0 1 0 1 0 0 1 \n",
            "1 0 0 X 1 1 0 0 0 1 \n",
            "Now you are in the armory, please find the the treasure map piece\n",
            "0 1 1 0 0 1 1 1 0 0 \n",
            "0 1 1 0 1 0 1 0 0 0 \n",
            "1 0 1 1 1 1 0 1 1 1 \n",
            "0 1 0 1 0 1 0 1 0 0 \n",
            "1 0 1 1 1 1 0 1 1 0 \n",
            "0 1 E X 0 0 1 1 0 0 \n",
            "0 0 1 1 1 1 0 0 1 0 \n",
            "1 0 1 1 0 1 1 0 1 0 \n",
            "0 0 1 1 1 1 1 0 0 0 \n",
            "0 0 0 0 1 0 1 0 1 1 \n",
            "Congratulations! You have found the piece of the treasure map!\n"
          ]
        }
      ]
    },
    {
      "cell_type": "code",
      "source": [
        "play_game()"
      ],
      "metadata": {
        "colab": {
          "base_uri": "https://localhost:8080/"
        },
        "id": "_hGXuDAGNA98",
        "outputId": "3e0fa398-126a-41d4-85d8-1bc9ad8ead61"
      },
      "execution_count": null,
      "outputs": [
        {
          "output_type": "stream",
          "name": "stdout",
          "text": [
            "Now you are in the armory, please find the the treasure map piece\n",
            "1 1 1 1 1 0 0 0 1 0 \n",
            "0 0 1 0 0 0 0 0 X 0 \n",
            "1 0 0 1 0 0 0 1 E 1 \n",
            "1 0 1 1 0 1 0 0 1 1 \n",
            "1 0 0 1 1 0 0 1 0 0 \n",
            "1 0 0 0 1 1 0 0 0 0 \n",
            "0 0 1 0 1 0 1 1 1 0 \n",
            "0 1 0 0 1 1 0 1 0 0 \n",
            "0 1 0 0 1 1 1 1 0 1 \n",
            "0 0 0 1 1 0 0 1 0 1 \n",
            "Please enter the direction of movement (up, down, left, right), or type 'retry' to start over, or 'exit' to end the game：down\n",
            "Congratulations! You have found the piece of the treasure map!\n",
            "Enter 'Continue' to go to the next room, or enter 'backpack' to check the treasures: continue\n",
            "Now you are in the ballroom...\n"
          ]
        }
      ]
    },
    {
      "cell_type": "code",
      "source": [],
      "metadata": {
        "id": "ngZiGKGVNUHg"
      },
      "execution_count": null,
      "outputs": []
    }
  ]
}